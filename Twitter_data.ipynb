{
 "cells": [
  {
   "cell_type": "code",
   "execution_count": 8,
   "metadata": {},
   "outputs": [],
   "source": [
    "import pandas as pd\n",
    "import tweepy\n",
    "from datetime import datetime\n",
    "from pprint import pprint\n",
    "\n",
    "from config import consumer_key, consumer_secret, access_token, access_token_secret"
   ]
  },
  {
   "cell_type": "code",
   "execution_count": 9,
   "metadata": {},
   "outputs": [],
   "source": [
    "# Setup Tweepy API Authentication\n",
    "auth = tweepy.OAuthHandler(consumer_key, consumer_secret)\n",
    "auth.set_access_token(access_token, access_token_secret)\n",
    "api = tweepy.API(auth, parser=tweepy.parsers.JSONParser())"
   ]
  },
  {
   "cell_type": "code",
   "execution_count": 35,
   "metadata": {},
   "outputs": [
    {
     "data": {
      "text/html": [
       "<div>\n",
       "<style scoped>\n",
       "    .dataframe tbody tr th:only-of-type {\n",
       "        vertical-align: middle;\n",
       "    }\n",
       "\n",
       "    .dataframe tbody tr th {\n",
       "        vertical-align: top;\n",
       "    }\n",
       "\n",
       "    .dataframe thead th {\n",
       "        text-align: right;\n",
       "    }\n",
       "</style>\n",
       "<table border=\"1\" class=\"dataframe\">\n",
       "  <thead>\n",
       "    <tr style=\"text-align: right;\">\n",
       "      <th></th>\n",
       "      <th>Created</th>\n",
       "      <th>Likes</th>\n",
       "      <th>Retweets</th>\n",
       "      <th>Tweet</th>\n",
       "    </tr>\n",
       "  </thead>\n",
       "  <tbody>\n",
       "    <tr>\n",
       "      <th>0</th>\n",
       "      <td>Sat Jun 23 20:25:06 +0000 2018</td>\n",
       "      <td>7358</td>\n",
       "      <td>1923</td>\n",
       "      <td>Thank you @NVGOP! #MAGA https://t.co/OGTR2j6PGG</td>\n",
       "    </tr>\n",
       "    <tr>\n",
       "      <th>1</th>\n",
       "      <td>Sat Jun 23 17:12:03 +0000 2018</td>\n",
       "      <td>40062</td>\n",
       "      <td>8611</td>\n",
       "      <td>Happy Birthday to Supreme Court Justice Claren...</td>\n",
       "    </tr>\n",
       "    <tr>\n",
       "      <th>2</th>\n",
       "      <td>Sat Jun 23 17:05:33 +0000 2018</td>\n",
       "      <td>67179</td>\n",
       "      <td>18208</td>\n",
       "      <td>It’s very sad that Nancy Pelosi and her sideki...</td>\n",
       "    </tr>\n",
       "    <tr>\n",
       "      <th>3</th>\n",
       "      <td>Sat Jun 23 17:03:03 +0000 2018</td>\n",
       "      <td>0</td>\n",
       "      <td>5724</td>\n",
       "      <td>RT @HuckabeeOnTBN: TONIGHT: the President of t...</td>\n",
       "    </tr>\n",
       "    <tr>\n",
       "      <th>4</th>\n",
       "      <td>Sat Jun 23 16:57:48 +0000 2018</td>\n",
       "      <td>36228</td>\n",
       "      <td>8173</td>\n",
       "      <td>Heading to Nevada to talk trade and immigratio...</td>\n",
       "    </tr>\n",
       "  </tbody>\n",
       "</table>\n",
       "</div>"
      ],
      "text/plain": [
       "                          Created  Likes  Retweets  \\\n",
       "0  Sat Jun 23 20:25:06 +0000 2018   7358      1923   \n",
       "1  Sat Jun 23 17:12:03 +0000 2018  40062      8611   \n",
       "2  Sat Jun 23 17:05:33 +0000 2018  67179     18208   \n",
       "3  Sat Jun 23 17:03:03 +0000 2018      0      5724   \n",
       "4  Sat Jun 23 16:57:48 +0000 2018  36228      8173   \n",
       "\n",
       "                                               Tweet  \n",
       "0    Thank you @NVGOP! #MAGA https://t.co/OGTR2j6PGG  \n",
       "1  Happy Birthday to Supreme Court Justice Claren...  \n",
       "2  It’s very sad that Nancy Pelosi and her sideki...  \n",
       "3  RT @HuckabeeOnTBN: TONIGHT: the President of t...  \n",
       "4  Heading to Nevada to talk trade and immigratio...  "
      ]
     },
     "execution_count": 35,
     "metadata": {},
     "output_type": "execute_result"
    }
   ],
   "source": [
    "# Target User\n",
    "target_user = \"@realDonaldTrump\"\n",
    "\n",
    "\n",
    "\n",
    "# Tweet Texts\n",
    "tweet_texts = []\n",
    "created_date =[]\n",
    "retweets=[]\n",
    "likes=[]\n",
    "\n",
    "\n",
    "# Create a loop to iteratively run API requests\n",
    "for x in range(1,5):\n",
    "\n",
    "    # Get all tweets from home feed (for each page specified)\n",
    "    public_tweets = api.user_timeline(target_user, page=x)\n",
    "\n",
    "    # Loop through all tweets\n",
    "    for tweet in public_tweets:\n",
    "\n",
    "        # Print Tweet\n",
    "        tweet_texts.append(tweet[\"text\"])\n",
    "        created_date.append(tweet[\"created_at\"])\n",
    "        retweets.append(tweet[\"retweet_count\"])\n",
    "        likes.append(tweet[\"favorite_count\"])\n",
    "        \n",
    "trump_tweets = {\n",
    "                \"Tweet\" : tweet_texts,\n",
    "                \"Created\" : created_date,\n",
    "                \"Retweets\" : retweets,\n",
    "                \"Likes\" : likes\n",
    "                }\n",
    "\n",
    "\n",
    "# print(len(likes))\n",
    "\n",
    "trump_tweets = pd.DataFrame(trump_tweets)\n",
    "trump_tweets.head(5)\n",
    "\n",
    "\n"
   ]
  },
  {
   "cell_type": "code",
   "execution_count": 36,
   "metadata": {},
   "outputs": [],
   "source": [
    "keyword = ['earnings', 'election', 'futures', 'investor', 'low', 'market', 'nasdaq', 'north korea', 'stock',\n",
    "'market', 'correction', 'trading', 'unemployment','wall street','china',\n",
    "'bull', 'kim', 'price', 'high', 'corporate', 'global warming', 'tariff', 'tax cut', 'jobs', 'economy', 'trade', 'missile', 'nuclear', 'trade', 'jobs', 'wages',\n",
    "'maga']\n",
    "\n",
    "# location_data[\"Date\"] = dt.now().strftime(\"%m/%d/%Y\")\n",
    "# Date = dt.now().strftime(\"%m/%d/%Y\")"
   ]
  },
  {
   "cell_type": "code",
   "execution_count": null,
   "metadata": {},
   "outputs": [],
   "source": [
    " for tweet in trump_tweets:\n",
    "        \n",
    "\n",
    "        # Print Tweet\n",
    "        tweet_texts.append(tweet[\"text\"])\n",
    "        created_date.append(tweet[\"created_at\"])\n",
    "        retweets.append(tweet[\"retweet_count\"])\n",
    "        likes.append(tweet[\"favorite_count\"])"
   ]
  }
 ],
 "metadata": {
  "kernelspec": {
   "display_name": "Python 3",
   "language": "python",
   "name": "python3"
  },
  "language_info": {
   "codemirror_mode": {
    "name": "ipython",
    "version": 3
   },
   "file_extension": ".py",
   "mimetype": "text/x-python",
   "name": "python",
   "nbconvert_exporter": "python",
   "pygments_lexer": "ipython3",
   "version": "3.6.4"
  }
 },
 "nbformat": 4,
 "nbformat_minor": 2
}
